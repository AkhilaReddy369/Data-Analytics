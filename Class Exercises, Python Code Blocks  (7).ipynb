{
 "cells": [
  {
   "cell_type": "markdown",
   "id": "471b1403",
   "metadata": {},
   "source": [
    "## Some math: Python as a calculator"
   ]
  },
  {
   "cell_type": "code",
   "execution_count": 1,
   "id": "b4e27d03",
   "metadata": {},
   "outputs": [
    {
     "data": {
      "text/plain": [
       "9"
      ]
     },
     "execution_count": 1,
     "metadata": {},
     "output_type": "execute_result"
    }
   ],
   "source": [
    "3+6"
   ]
  },
  {
   "cell_type": "code",
   "execution_count": 2,
   "id": "557aa05d",
   "metadata": {},
   "outputs": [
    {
     "data": {
      "text/plain": [
       "12.5264"
      ]
     },
     "execution_count": 2,
     "metadata": {},
     "output_type": "execute_result"
    }
   ],
   "source": [
    "8.239 + 4.2874"
   ]
  },
  {
   "cell_type": "code",
   "execution_count": 3,
   "id": "75992e4a",
   "metadata": {},
   "outputs": [
    {
     "data": {
      "text/plain": [
       "0.8798999999999997"
      ]
     },
     "execution_count": 3,
     "metadata": {},
     "output_type": "execute_result"
    }
   ],
   "source": [
    "3.6285 - 2.7486"
   ]
  },
  {
   "cell_type": "code",
   "execution_count": 4,
   "id": "5455cf92",
   "metadata": {},
   "outputs": [
    {
     "data": {
      "text/plain": [
       "2187426457451834536"
      ]
     },
     "execution_count": 4,
     "metadata": {},
     "output_type": "execute_result"
    }
   ],
   "source": [
    "278952632 * 7841569523"
   ]
  },
  {
   "cell_type": "code",
   "execution_count": 5,
   "id": "40164047",
   "metadata": {},
   "outputs": [
    {
     "data": {
      "text/plain": [
       "37.32369463938697"
      ]
     },
     "execution_count": 5,
     "metadata": {},
     "output_type": "execute_result"
    }
   ],
   "source": [
    "8796523 / 235682"
   ]
  },
  {
   "cell_type": "code",
   "execution_count": 6,
   "id": "44130267",
   "metadata": {},
   "outputs": [
    {
     "data": {
      "text/plain": [
       "12990.0"
      ]
     },
     "execution_count": 6,
     "metadata": {},
     "output_type": "execute_result"
    }
   ],
   "source": [
    "2.3e2 + 12.76e3 # scientific notation of numbers"
   ]
  },
  {
   "cell_type": "code",
   "execution_count": 7,
   "id": "691bff89",
   "metadata": {},
   "outputs": [
    {
     "data": {
      "text/plain": [
       "230.0"
      ]
     },
     "execution_count": 7,
     "metadata": {},
     "output_type": "execute_result"
    }
   ],
   "source": [
    "num1 = 2.3e2 ; num1  # number assigned to a variable, here the variable is num1"
   ]
  },
  {
   "cell_type": "code",
   "execution_count": 8,
   "id": "b81e88a0",
   "metadata": {},
   "outputs": [
    {
     "data": {
      "text/plain": [
       "12760.0"
      ]
     },
     "execution_count": 8,
     "metadata": {},
     "output_type": "execute_result"
    }
   ],
   "source": [
    "num2 = 12.76e3; num2"
   ]
  },
  {
   "cell_type": "code",
   "execution_count": 9,
   "id": "e5468803",
   "metadata": {},
   "outputs": [
    {
     "data": {
      "text/plain": [
       "12990.0"
      ]
     },
     "execution_count": 9,
     "metadata": {},
     "output_type": "execute_result"
    }
   ],
   "source": [
    "num1 + num2"
   ]
  },
  {
   "cell_type": "code",
   "execution_count": 10,
   "id": "fdfb56d0",
   "metadata": {},
   "outputs": [
    {
     "data": {
      "text/plain": [
       "5"
      ]
     },
     "execution_count": 10,
     "metadata": {},
     "output_type": "execute_result"
    }
   ],
   "source": [
    "15 % 10 # mod, the remainder after division"
   ]
  },
  {
   "cell_type": "code",
   "execution_count": 12,
   "id": "ecee0335",
   "metadata": {},
   "outputs": [
    {
     "data": {
      "text/plain": [
       "2"
      ]
     },
     "execution_count": 12,
     "metadata": {},
     "output_type": "execute_result"
    }
   ],
   "source": [
    "1002 % 100"
   ]
  },
  {
   "cell_type": "code",
   "execution_count": null,
   "id": "6dc8e3fc",
   "metadata": {},
   "outputs": [],
   "source": [
    "1002 % 3 # How about this one?"
   ]
  },
  {
   "cell_type": "code",
   "execution_count": 13,
   "id": "894787ae",
   "metadata": {},
   "outputs": [
    {
     "data": {
      "text/plain": [
       "5"
      ]
     },
     "execution_count": 13,
     "metadata": {},
     "output_type": "execute_result"
    }
   ],
   "source": [
    "21 // 4 # floor division"
   ]
  },
  {
   "cell_type": "code",
   "execution_count": null,
   "id": "729382ac",
   "metadata": {},
   "outputs": [],
   "source": [
    "192 // 5"
   ]
  },
  {
   "cell_type": "code",
   "execution_count": 14,
   "id": "8617bdaf",
   "metadata": {},
   "outputs": [
    {
     "data": {
      "text/plain": [
       "81"
      ]
     },
     "execution_count": 14,
     "metadata": {},
     "output_type": "execute_result"
    }
   ],
   "source": [
    "3 ** 4 # 3 to power four 3*3*3*3"
   ]
  },
  {
   "cell_type": "code",
   "execution_count": null,
   "id": "1418875e",
   "metadata": {},
   "outputs": [],
   "source": [
    "5 ** 4"
   ]
  },
  {
   "cell_type": "code",
   "execution_count": null,
   "id": "2bb11155",
   "metadata": {},
   "outputs": [],
   "source": [
    "100 / 0"
   ]
  },
  {
   "cell_type": "code",
   "execution_count": null,
   "id": "18fab8fc",
   "metadata": {},
   "outputs": [],
   "source": [
    "0 ** 100"
   ]
  },
  {
   "cell_type": "code",
   "execution_count": null,
   "id": "e20282ab",
   "metadata": {},
   "outputs": [],
   "source": [
    "0 ** 0  # Any ideas?"
   ]
  },
  {
   "cell_type": "code",
   "execution_count": null,
   "id": "271a10a0",
   "metadata": {},
   "outputs": [],
   "source": [
    "5 + 8 ** 2"
   ]
  },
  {
   "cell_type": "code",
   "execution_count": null,
   "id": "1a92f9cd",
   "metadata": {},
   "outputs": [],
   "source": [
    "7 + 5 ** 3 * 2                                                                                                                 # this goes as 7 + ((5 ** 3) * 2)"
   ]
  },
  {
   "cell_type": "markdown",
   "id": "2c0438b5",
   "metadata": {},
   "source": [
    "The order of operations can be remembered by the acronym PEMDAS, which stands for: <br>\n",
    "Parentheses, Exponents, Multiplication and Division from left to right, and Addition and Subtraction <br> from left to right. <br>\n",
    "That is: (exponential) followed by (multiplication), (division), (floor division), (remainder) <br> followed by (addition), (subtraction)"
   ]
  },
  {
   "cell_type": "markdown",
   "id": "d2160ca7",
   "metadata": {},
   "source": [
    "## Practice yourself: What are the outputs of the following code blocks?"
   ]
  },
  {
   "cell_type": "code",
   "execution_count": null,
   "id": "94ba74b7",
   "metadata": {},
   "outputs": [],
   "source": [
    "print (((5 + 4) / 3) * 2)                                                                                                                 # 6"
   ]
  },
  {
   "cell_type": "code",
   "execution_count": null,
   "id": "9991adb7",
   "metadata": {},
   "outputs": [],
   "source": [
    "print (2 + 3 // 4 - 7)                                                                                                                 # -5"
   ]
  },
  {
   "cell_type": "code",
   "execution_count": null,
   "id": "0bbe9544",
   "metadata": {},
   "outputs": [],
   "source": [
    "print (45 - 9 ** 2 % 15)  # \"**\" goes first and then \"%\" and then \"-\"                                                                                                                    # 39  "
   ]
  },
  {
   "cell_type": "code",
   "execution_count": null,
   "id": "a87f97da",
   "metadata": {},
   "outputs": [],
   "source": [
    "((1000 ** 1) * (2.3e2) % 100) ** 5                                                                                                                  # 0  "
   ]
  },
  {
   "cell_type": "code",
   "execution_count": null,
   "id": "76c18277",
   "metadata": {},
   "outputs": [],
   "source": [
    "((((7 ** 0.5) ** 2) % 6 ) * 25) ** 0                                                                                             # 1"
   ]
  },
  {
   "cell_type": "code",
   "execution_count": null,
   "id": "15b7b8eb",
   "metadata": {},
   "outputs": [],
   "source": [
    "((150 // 0) ** 2)                                                                                                                  # division by zero error"
   ]
  },
  {
   "cell_type": "markdown",
   "id": "3b1b2236",
   "metadata": {},
   "source": [
    "## Variables"
   ]
  },
  {
   "cell_type": "code",
   "execution_count": 20,
   "id": "e73e8c1d",
   "metadata": {},
   "outputs": [],
   "source": [
    "x = 512 # integer"
   ]
  },
  {
   "cell_type": "code",
   "execution_count": 21,
   "id": "5591e9b0",
   "metadata": {},
   "outputs": [],
   "source": [
    "y = 512.84 # floating"
   ]
  },
  {
   "cell_type": "code",
   "execution_count": 22,
   "id": "a16eb1a5",
   "metadata": {},
   "outputs": [],
   "source": [
    "z = \"Adam\" # string"
   ]
  },
  {
   "cell_type": "code",
   "execution_count": 23,
   "id": "ff263b95",
   "metadata": {},
   "outputs": [],
   "source": [
    "w = True # boolean"
   ]
  },
  {
   "cell_type": "code",
   "execution_count": 24,
   "id": "33ccf678",
   "metadata": {},
   "outputs": [
    {
     "data": {
      "text/plain": [
       "int"
      ]
     },
     "execution_count": 24,
     "metadata": {},
     "output_type": "execute_result"
    }
   ],
   "source": [
    "type(x)"
   ]
  },
  {
   "cell_type": "code",
   "execution_count": 25,
   "id": "1bdf4e21",
   "metadata": {},
   "outputs": [
    {
     "data": {
      "text/plain": [
       "float"
      ]
     },
     "execution_count": 25,
     "metadata": {},
     "output_type": "execute_result"
    }
   ],
   "source": [
    "type(y)"
   ]
  },
  {
   "cell_type": "code",
   "execution_count": 26,
   "id": "bfbeee8c",
   "metadata": {},
   "outputs": [
    {
     "data": {
      "text/plain": [
       "str"
      ]
     },
     "execution_count": 26,
     "metadata": {},
     "output_type": "execute_result"
    }
   ],
   "source": [
    "type(z)"
   ]
  },
  {
   "cell_type": "code",
   "execution_count": 27,
   "id": "68a83bbf",
   "metadata": {},
   "outputs": [
    {
     "data": {
      "text/plain": [
       "bool"
      ]
     },
     "execution_count": 27,
     "metadata": {},
     "output_type": "execute_result"
    }
   ],
   "source": [
    "type(w)"
   ]
  },
  {
   "cell_type": "markdown",
   "id": "97fc73d0",
   "metadata": {},
   "source": [
    "int(), float(), str() converts the variable types to these"
   ]
  },
  {
   "cell_type": "code",
   "execution_count": 28,
   "id": "ff5e8da1",
   "metadata": {},
   "outputs": [
    {
     "data": {
      "text/plain": [
       "45"
      ]
     },
     "execution_count": 28,
     "metadata": {},
     "output_type": "execute_result"
    }
   ],
   "source": [
    "zz = \"45\" ; int(zz)"
   ]
  },
  {
   "cell_type": "code",
   "execution_count": null,
   "id": "aec8f566",
   "metadata": {},
   "outputs": [],
   "source": [
    "xx = str(x) ; xx + y"
   ]
  },
  {
   "cell_type": "code",
   "execution_count": null,
   "id": "c2f31833",
   "metadata": {},
   "outputs": [],
   "source": [
    "aa = \"100\" ; bb = \"200\" ; aa+bb"
   ]
  },
  {
   "cell_type": "markdown",
   "id": "9c288f55",
   "metadata": {},
   "source": [
    "## Comparison Operators"
   ]
  },
  {
   "cell_type": "code",
   "execution_count": 30,
   "id": "2c8ac608",
   "metadata": {},
   "outputs": [
    {
     "data": {
      "text/plain": [
       "False"
      ]
     },
     "execution_count": 30,
     "metadata": {},
     "output_type": "execute_result"
    }
   ],
   "source": [
    "x = 15 ; y = 16 ; x==y"
   ]
  },
  {
   "cell_type": "code",
   "execution_count": null,
   "id": "c2d465a3",
   "metadata": {},
   "outputs": [],
   "source": [
    "x != y"
   ]
  },
  {
   "cell_type": "code",
   "execution_count": null,
   "id": "9cf5ebbf",
   "metadata": {},
   "outputs": [],
   "source": [
    "x < y"
   ]
  },
  {
   "cell_type": "code",
   "execution_count": null,
   "id": "328d49e7",
   "metadata": {},
   "outputs": [],
   "source": [
    "x > y"
   ]
  },
  {
   "cell_type": "code",
   "execution_count": 33,
   "id": "d00b7ef9",
   "metadata": {},
   "outputs": [
    {
     "data": {
      "text/plain": [
       "True"
      ]
     },
     "execution_count": 33,
     "metadata": {},
     "output_type": "execute_result"
    }
   ],
   "source": [
    "x != y and x!=z"
   ]
  },
  {
   "cell_type": "code",
   "execution_count": null,
   "id": "abb4841f",
   "metadata": {},
   "outputs": [],
   "source": [
    "x != y or x!=z"
   ]
  },
  {
   "cell_type": "code",
   "execution_count": null,
   "id": "b58dc864",
   "metadata": {},
   "outputs": [],
   "source": [
    "aa = \"100\" and bb = \"200\" and x>5"
   ]
  },
  {
   "cell_type": "code",
   "execution_count": null,
   "id": "aef22fd8",
   "metadata": {},
   "outputs": [],
   "source": [
    "aa = \"Hi\" or bb = \"There\" or x > 10"
   ]
  },
  {
   "cell_type": "markdown",
   "id": "ed6d8df7",
   "metadata": {},
   "source": [
    "### Exercise: Type and run the code at the bottom of slide page 39 after removing \"not\" and replacing \"and\" by \"or\" "
   ]
  },
  {
   "cell_type": "markdown",
   "id": "e1d26a35",
   "metadata": {},
   "source": [
    "## Practicing with \"strings\" "
   ]
  },
  {
   "cell_type": "code",
   "execution_count": 34,
   "id": "10724aa5",
   "metadata": {},
   "outputs": [],
   "source": [
    "X = \"Home\" ; Y = \"Sweet\""
   ]
  },
  {
   "cell_type": "code",
   "execution_count": 36,
   "id": "a64cf445",
   "metadata": {},
   "outputs": [
    {
     "data": {
      "text/plain": [
       "'HomeSweetHome'"
      ]
     },
     "execution_count": 36,
     "metadata": {},
     "output_type": "execute_result"
    }
   ],
   "source": [
    "X + Y + X"
   ]
  },
  {
   "cell_type": "code",
   "execution_count": 37,
   "id": "c618b55a",
   "metadata": {},
   "outputs": [
    {
     "data": {
      "text/plain": [
       "'Home Sweet Home'"
      ]
     },
     "execution_count": 37,
     "metadata": {},
     "output_type": "execute_result"
    }
   ],
   "source": [
    "X + \" \" + Y + \" \" + X"
   ]
  },
  {
   "cell_type": "code",
   "execution_count": null,
   "id": "d8b2bfda",
   "metadata": {},
   "outputs": [],
   "source": [
    "X + \" \" + Y * 5 + \" \" + X"
   ]
  },
  {
   "cell_type": "code",
   "execution_count": 41,
   "id": "b0507295",
   "metadata": {},
   "outputs": [],
   "source": [
    "first = \"MEHMET\" ; last = \"orhan\" "
   ]
  },
  {
   "cell_type": "code",
   "execution_count": 42,
   "id": "a7b65cff",
   "metadata": {},
   "outputs": [
    {
     "data": {
      "text/plain": [
       "'MEHMET ORHAN'"
      ]
     },
     "execution_count": 42,
     "metadata": {},
     "output_type": "execute_result"
    }
   ],
   "source": [
    "first + \" \" + last.upper()"
   ]
  },
  {
   "cell_type": "code",
   "execution_count": 44,
   "id": "6c439d96",
   "metadata": {},
   "outputs": [
    {
     "data": {
      "text/plain": [
       "'mehmet ORHAN'"
      ]
     },
     "execution_count": 44,
     "metadata": {},
     "output_type": "execute_result"
    }
   ],
   "source": [
    "first.lower() + \" \" + last.upper()"
   ]
  },
  {
   "cell_type": "code",
   "execution_count": 45,
   "id": "3ffdceff",
   "metadata": {},
   "outputs": [
    {
     "name": "stdout",
     "output_type": "stream",
     "text": [
      "How old are you 25\n"
     ]
    }
   ],
   "source": [
    "age = input(\"How old are you \")"
   ]
  },
  {
   "cell_type": "code",
   "execution_count": 46,
   "id": "1b4001bc",
   "metadata": {},
   "outputs": [
    {
     "data": {
      "text/plain": [
       "'You are 25 years old, correct?'"
      ]
     },
     "execution_count": 46,
     "metadata": {},
     "output_type": "execute_result"
    }
   ],
   "source": [
    "\"You are \" + age + \" years old, correct?\""
   ]
  },
  {
   "cell_type": "markdown",
   "id": "2863d843",
   "metadata": {},
   "source": [
    "## Practice yourself: Repeat the same with the favorite color of the person"
   ]
  },
  {
   "cell_type": "markdown",
   "id": "35537e43",
   "metadata": {},
   "source": [
    "## Loops"
   ]
  },
  {
   "cell_type": "code",
   "execution_count": 52,
   "id": "faf43ef4",
   "metadata": {},
   "outputs": [
    {
     "name": "stdout",
     "output_type": "stream",
     "text": [
      "apple\n",
      "banana\n",
      "cherry\n"
     ]
    }
   ],
   "source": [
    "fruits = [\"apple\", \"banana\", \"cherry\"]\n",
    "for x in fruits:\n",
    "  print(x)"
   ]
  },
  {
   "cell_type": "code",
   "execution_count": 53,
   "id": "826ceaa0",
   "metadata": {},
   "outputs": [
    {
     "name": "stdout",
     "output_type": "stream",
     "text": [
      "b\n",
      "a\n",
      "n\n",
      "a\n",
      "n\n",
      "a\n"
     ]
    }
   ],
   "source": [
    "for x in \"banana\":\n",
    "  print(x)"
   ]
  },
  {
   "cell_type": "code",
   "execution_count": 54,
   "id": "23b9ca13",
   "metadata": {},
   "outputs": [
    {
     "name": "stdout",
     "output_type": "stream",
     "text": [
      "0\n",
      "1\n",
      "4\n",
      "9\n",
      "16\n",
      "25\n",
      "36\n",
      "49\n",
      "64\n",
      "81\n",
      "100\n"
     ]
    }
   ],
   "source": [
    "for num in range(11):\n",
    "    print(num ** 2)"
   ]
  },
  {
   "cell_type": "markdown",
   "id": "713d0256",
   "metadata": {},
   "source": [
    "What will be last line you see when you run the code block below?"
   ]
  },
  {
   "cell_type": "code",
   "execution_count": null,
   "id": "6e6db0fa",
   "metadata": {},
   "outputs": [],
   "source": [
    "for num in range(26):\n",
    "    print(num ** 0.5)"
   ]
  },
  {
   "cell_type": "code",
   "execution_count": 68,
   "id": "8a712ada",
   "metadata": {},
   "outputs": [
    {
     "name": "stdout",
     "output_type": "stream",
     "text": [
      "Current number is:  101\n",
      "Current number is:  12\n",
      "Current number is:  -3\n",
      "Current number is:  41\n",
      "Current number is:  5\n",
      "Out of the for loop\n"
     ]
    }
   ],
   "source": [
    "# another example\n",
    "numbers = [101, 12, -3, 41, 5]\n",
    "\n",
    "for val in numbers:\n",
    "    print(\"Current number is: \", val)\n",
    "\n",
    "print(\"Out of the for loop\")"
   ]
  },
  {
   "cell_type": "markdown",
   "id": "9447e97a",
   "metadata": {},
   "source": [
    "## While loop"
   ]
  },
  {
   "cell_type": "code",
   "execution_count": 69,
   "id": "a8b48fd5",
   "metadata": {},
   "outputs": [
    {
     "name": "stdout",
     "output_type": "stream",
     "text": [
      "1\n",
      "2\n",
      "3\n",
      "4\n",
      "5\n"
     ]
    }
   ],
   "source": [
    "i = 1\n",
    "while i < 6:\n",
    "  print(i)\n",
    "  i += 1 # this means i = i + 1"
   ]
  },
  {
   "cell_type": "markdown",
   "id": "16d04818",
   "metadata": {},
   "source": [
    "## Practice yourself: Print the squares of all positive integers less than 11 using the while loop"
   ]
  },
  {
   "cell_type": "code",
   "execution_count": null,
   "id": "177b6d20",
   "metadata": {},
   "outputs": [],
   "source": []
  },
  {
   "cell_type": "markdown",
   "id": "cc71719c",
   "metadata": {},
   "source": [
    "## Conditional Statements with \"if\""
   ]
  },
  {
   "cell_type": "code",
   "execution_count": 70,
   "id": "1c0df882",
   "metadata": {},
   "outputs": [
    {
     "name": "stdout",
     "output_type": "stream",
     "text": [
      "b is greater than a\n"
     ]
    }
   ],
   "source": [
    "a = 33\n",
    "b = 200\n",
    "if b > a:\n",
    "  print(\"b is greater than a\")"
   ]
  },
  {
   "cell_type": "code",
   "execution_count": null,
   "id": "6d37ff57",
   "metadata": {},
   "outputs": [],
   "source": [
    "a = 33\n",
    "b = 200\n",
    "if b > a:\n",
    "print(\"b is greater than a\") # Why do we get an error message here?"
   ]
  },
  {
   "cell_type": "code",
   "execution_count": 71,
   "id": "773fcb22",
   "metadata": {},
   "outputs": [
    {
     "name": "stdout",
     "output_type": "stream",
     "text": [
      "a and b are equal\n"
     ]
    }
   ],
   "source": [
    "a = 33\n",
    "b = 33\n",
    "if b > a:\n",
    "  print(\"b is greater than a\")\n",
    "elif a == b:\n",
    "  print(\"a and b are equal\")"
   ]
  },
  {
   "cell_type": "code",
   "execution_count": 72,
   "id": "0ae199f4",
   "metadata": {},
   "outputs": [
    {
     "name": "stdout",
     "output_type": "stream",
     "text": [
      "a is greater than b\n"
     ]
    }
   ],
   "source": [
    "a = 200\n",
    "b = 33\n",
    "if b > a:\n",
    "  print(\"b is greater than a\")\n",
    "elif a == b:\n",
    "  print(\"a and b are equal\")\n",
    "else:\n",
    "  print(\"a is greater than b\")"
   ]
  },
  {
   "cell_type": "code",
   "execution_count": null,
   "id": "651fdbdf",
   "metadata": {},
   "outputs": [],
   "source": [
    "# What is the output of this code?\n",
    "a = 200\n",
    "b = 33\n",
    "if b > a:\n",
    "  print(\"b is greater than a\")\n",
    "else:\n",
    "  print(\"b is not greater than a\")"
   ]
  },
  {
   "cell_type": "code",
   "execution_count": 73,
   "id": "6c69b03d",
   "metadata": {},
   "outputs": [
    {
     "name": "stdout",
     "output_type": "stream",
     "text": [
      "Above ten,\n",
      "and also above 20!\n"
     ]
    }
   ],
   "source": [
    "x = 41\n",
    "\n",
    "if x > 10:\n",
    "  print(\"Above ten,\")\n",
    "  if x > 20:\n",
    "    print(\"and also above 20!\")\n",
    "  else:\n",
    "    print(\"but not above 20.\")"
   ]
  },
  {
   "cell_type": "markdown",
   "id": "f425c43b",
   "metadata": {},
   "source": [
    "## Group Practice: Ask the age of the user. Advise the user if the age is over 40, and advise something else if the age is less than or equal to 40."
   ]
  },
  {
   "cell_type": "markdown",
   "id": "cb1cfb55",
   "metadata": {},
   "source": [
    "## Group Practice: Ask the weight of a person in pounds,  convert it to kilograms, and tell him/her the weight in pounds, a pound is 0.454 kilograms. "
   ]
  },
  {
   "cell_type": "code",
   "execution_count": null,
   "id": "41d84022",
   "metadata": {},
   "outputs": [],
   "source": []
  }
 ],
 "metadata": {
  "kernelspec": {
   "display_name": "Python 3 (ipykernel)",
   "language": "python",
   "name": "python3"
  },
  "language_info": {
   "codemirror_mode": {
    "name": "ipython",
    "version": 3
   },
   "file_extension": ".py",
   "mimetype": "text/x-python",
   "name": "python",
   "nbconvert_exporter": "python",
   "pygments_lexer": "ipython3",
   "version": "3.9.13"
  }
 },
 "nbformat": 4,
 "nbformat_minor": 5
}
