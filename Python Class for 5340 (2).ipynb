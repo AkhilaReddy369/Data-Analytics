{
 "cells": [
  {
   "cell_type": "markdown",
   "id": "460662ef",
   "metadata": {},
   "source": [
    "# ADTA5340:  Python Examples of Lists, Tuples, Set, and Dictionaries"
   ]
  },
  {
   "cell_type": "code",
   "execution_count": 1,
   "id": "018f4d8f",
   "metadata": {},
   "outputs": [
    {
     "name": "stdout",
     "output_type": "stream",
     "text": [
      "hello World\n"
     ]
    }
   ],
   "source": [
    "print(\"hello World\")"
   ]
  },
  {
   "cell_type": "code",
   "execution_count": 2,
   "id": "bcd23749",
   "metadata": {},
   "outputs": [
    {
     "name": "stdout",
     "output_type": "stream",
     "text": [
      "First john: A 25-year-old gentleman\n",
      "Second John: A middle-aged man\n"
     ]
    }
   ],
   "source": [
    "john = \"A 25-year-old gentleman\"\n",
    "John = \"A middle-aged man\"\n",
    "print(\"First john: \" + john)\n",
    "print(\"Second John: \" + John)\n"
   ]
  },
  {
   "cell_type": "markdown",
   "id": "75c9be73",
   "metadata": {},
   "source": [
    "## Lists"
   ]
  },
  {
   "cell_type": "code",
   "execution_count": 3,
   "id": "f3b8ddf0",
   "metadata": {},
   "outputs": [
    {
     "name": "stdout",
     "output_type": "stream",
     "text": [
      "Adding 5 and 10 in list [5, 10]\n"
     ]
    }
   ],
   "source": [
    "# Creating an empty List\n",
    "l = []\n",
    "\n",
    "# Adding Element into list\n",
    "l.append(5)\n",
    "l.append(10)\n",
    "print(\"Adding 5 and 10 in list\", l)\n",
    "\n"
   ]
  },
  {
   "cell_type": "code",
   "execution_count": 4,
   "id": "2ee4edcf",
   "metadata": {},
   "outputs": [
    {
     "name": "stdout",
     "output_type": "stream",
     "text": [
      "Popped one element from list [5]\n",
      "\n"
     ]
    }
   ],
   "source": [
    "# Popping Elements from list\n",
    "l.pop(1)\n",
    "print(\"Popped one element from list\", l)\n",
    "print()\n",
    "\n"
   ]
  },
  {
   "cell_type": "code",
   "execution_count": 5,
   "id": "2ca8b4f5",
   "metadata": {},
   "outputs": [
    {
     "name": "stdout",
     "output_type": "stream",
     "text": [
      "I need to add ['apples', 'cheese', 'lettuce', 'milk', 'eggs'] to my grocery list.\n"
     ]
    }
   ],
   "source": [
    "# What if we change the name of the list to groceries?\n",
    "groceries = []\n",
    "# Let's add groceries to our list\n",
    "groceries.append ('apples')\n",
    "# Let's try to add four items and see what happens.\n",
    "#groceries.append ('cheese','lettuce', 'milk','eggs')\n",
    "#Let's do that one by one.\n",
    "groceries.append ('cheese')\n",
    "groceries.append ('lettuce')\n",
    "groceries.append ('milk')\n",
    "groceries.append ('eggs')\n",
    "print(\"I need to add\",groceries,\"to my grocery list.\")"
   ]
  },
  {
   "cell_type": "code",
   "execution_count": 6,
   "id": "76169e10",
   "metadata": {},
   "outputs": [
    {
     "name": "stdout",
     "output_type": "stream",
     "text": [
      "I need to add ['apples', 'peanut butter', 'lettuce', 'milk', 'eggs'] to my grocery list.\n"
     ]
    }
   ],
   "source": [
    "#What if we want to change the value from 'cheese' to 'peanut butter' in the groceries list?\n",
    "groceries[1]='peanut butter'\n",
    "print(\"I need to add\",groceries,\"to my grocery list.\")"
   ]
  },
  {
   "cell_type": "code",
   "execution_count": 7,
   "id": "01407d57",
   "metadata": {},
   "outputs": [
    {
     "name": "stdout",
     "output_type": "stream",
     "text": [
      "Popped one element from list ['apples', 'lettuce', 'milk', 'eggs']\n",
      "\n"
     ]
    }
   ],
   "source": [
    "# Popping Elements from list\n",
    "groceries.pop(1)\n",
    "print(\"Popped one element from list\", groceries)\n",
    "print()\n",
    "\n"
   ]
  },
  {
   "cell_type": "markdown",
   "id": "710e1c65",
   "metadata": {},
   "source": [
    "## Set"
   ]
  },
  {
   "cell_type": "code",
   "execution_count": 8,
   "id": "87c894a2",
   "metadata": {},
   "outputs": [
    {
     "name": "stdout",
     "output_type": "stream",
     "text": [
      "Adding 5 and 10 in set {10, 5}\n"
     ]
    }
   ],
   "source": [
    "# Set\n",
    "s = set()\n",
    "\n",
    "# Adding element into set\n",
    "s.add(5)\n",
    "s.add(10)\n",
    "print(\"Adding 5 and 10 in set\", s)\n",
    "\n",
    "\n"
   ]
  },
  {
   "cell_type": "code",
   "execution_count": 9,
   "id": "40fe3b83",
   "metadata": {},
   "outputs": [
    {
     "name": "stdout",
     "output_type": "stream",
     "text": [
      "Removing 5 from set {10}\n",
      "\n"
     ]
    }
   ],
   "source": [
    "# Removing element from set\n",
    "s.remove(5)\n",
    "print(\"Removing 5 from set\", s)\n",
    "print()\n",
    "\n"
   ]
  },
  {
   "cell_type": "code",
   "execution_count": 10,
   "id": "0b495051",
   "metadata": {},
   "outputs": [
    {
     "name": "stdout",
     "output_type": "stream",
     "text": [
      "I need to add {'milk', 'apples', 'lettuce', 'cheese', 'eggs'} to my grocery set.\n"
     ]
    }
   ],
   "source": [
    "# What if we change the name of the set to groceries?\n",
    "groceries = set()\n",
    "\n",
    "# Let's add groceries to our list\n",
    "groceries.add ('apples')\n",
    "# Let's try to add four items and see what happens.\n",
    "#groceries.append ('cheese','lettuce', 'milk','eggs')\n",
    "#Let's do that one by one.\n",
    "groceries.add ('cheese')\n",
    "groceries.add ('lettuce')\n",
    "groceries.add ('milk')\n",
    "groceries.add ('eggs')\n",
    "print(\"I need to add\",groceries,\"to my grocery set.\")"
   ]
  },
  {
   "cell_type": "code",
   "execution_count": 11,
   "id": "582c7fc5",
   "metadata": {},
   "outputs": [
    {
     "name": "stdout",
     "output_type": "stream",
     "text": [
      "Removing the first element from the grocery set {'milk', 'apples', 'cheese', 'eggs'}\n"
     ]
    }
   ],
   "source": [
    "#Let's remove an element from the grocery set using an index value, 0.\n",
    "#groceries.remove (0)\n",
    "#print(\"Removing the first element from the grocery set\", groceries)\n",
    "#Let's try using the element name.\n",
    "groceries.remove ('lettuce')\n",
    "print(\"Removing the first element from the grocery set\", groceries)\n"
   ]
  },
  {
   "cell_type": "code",
   "execution_count": 12,
   "id": "69898d80",
   "metadata": {},
   "outputs": [
    {
     "name": "stdout",
     "output_type": "stream",
     "text": [
      "{0, True, 'snake', 'dog', 'cat'}\n"
     ]
    }
   ],
   "source": [
    "# Note: The values True and 1 are considered the same \n",
    "#value in sets, and are treated as duplicates. The same goes for\n",
    "#False and 0. Which ever is listed first will be printed.\n",
    "myset={\"dog\", \"cat\", \"snake\", True, 1, 0, False}\n",
    "print(myset)"
   ]
  },
  {
   "cell_type": "code",
   "execution_count": 13,
   "id": "a5781d7f",
   "metadata": {},
   "outputs": [
    {
     "name": "stdout",
     "output_type": "stream",
     "text": [
      "{0, 1, 'snake', 'dog', 'cat'}\n"
     ]
    }
   ],
   "source": [
    "# Note: The values True and 1 are considered the same \n",
    "#value in sets, and are treated as duplicates. The same goes for\n",
    "#False and 0. Which ever is listed first will be printed.\n",
    "#Sets are different than lists. If you want to preserve an order, use a list.\n",
    "myset2={1,True,0, False,\"dog\", \"cat\", \"snake\"}\n",
    "print(myset2)"
   ]
  },
  {
   "cell_type": "code",
   "execution_count": 14,
   "id": "5757b930",
   "metadata": {},
   "outputs": [
    {
     "name": "stdout",
     "output_type": "stream",
     "text": [
      "{0, True, 'snake', 'dog', 'cat'}\n",
      "<class 'set'>\n"
     ]
    }
   ],
   "source": [
    "#Remember:Sets are unordered. Set elements are unique. Duplicate elements are not allowed.\n",
    "myset3={\"dog\",\"dog\", \"cat\", \"snake\", True, 1, 0, False}\n",
    "print(myset3)\n",
    "print(type(myset3))"
   ]
  },
  {
   "cell_type": "markdown",
   "id": "b587c4c6",
   "metadata": {},
   "source": [
    "## Tuples"
   ]
  },
  {
   "cell_type": "code",
   "execution_count": 15,
   "id": "fcd22e62",
   "metadata": {},
   "outputs": [
    {
     "name": "stdout",
     "output_type": "stream",
     "text": [
      "('lettuce', 'apples', 'eggs', 'milk', 'cheese', 'lettuce')\n"
     ]
    }
   ],
   "source": [
    "# Tuples are ordered and indexed so they can have items with the same value\n",
    "mytuple = ('lettuce', 'apples', 'eggs', 'milk', 'cheese','lettuce')\n",
    "print(mytuple)"
   ]
  },
  {
   "cell_type": "code",
   "execution_count": 16,
   "id": "80c9edd4",
   "metadata": {},
   "outputs": [
    {
     "name": "stdout",
     "output_type": "stream",
     "text": [
      "6\n"
     ]
    }
   ],
   "source": [
    "#Let's get the length of this tuple.  We see there are 5 items.\n",
    "print(len(mytuple))"
   ]
  },
  {
   "cell_type": "code",
   "execution_count": 17,
   "id": "1510c904",
   "metadata": {},
   "outputs": [
    {
     "name": "stdout",
     "output_type": "stream",
     "text": [
      "(1,)\n",
      "<class 'tuple'>\n",
      "<class 'int'>\n",
      "<class 'str'>\n",
      "<class 'tuple'>\n"
     ]
    }
   ],
   "source": [
    "#Let's create a tuple with one zero.  \n",
    "#We have to add a comma at the end or it is not considered a tuple.\n",
    "atuple= (1,)\n",
    "print(atuple)\n",
    "print(type(atuple))\n",
    "\n",
    "notatuple = (1)\n",
    "print(type(notatuple))\n",
    "\n",
    "#What if we have a string?\n",
    "tuple_not = ('baby')\n",
    "print(type(tuple_not))\n",
    "\n",
    "# String as a tuple\n",
    "tuple_yes = (\"baby\",)\n",
    "print (type(tuple_yes))"
   ]
  },
  {
   "cell_type": "markdown",
   "id": "38c2a019",
   "metadata": {},
   "source": [
    "## Dictionary"
   ]
  },
  {
   "cell_type": "code",
   "execution_count": 18,
   "id": "827ecd37",
   "metadata": {},
   "outputs": [
    {
     "name": "stdout",
     "output_type": "stream",
     "text": [
      "Dictionary {5: 'Five', 10: 'Ten'}\n"
     ]
    }
   ],
   "source": [
    "# Dictionary\n",
    "d = {}\n",
    "\n",
    "# Adding the key value pair\n",
    "d[5] = \"Five\"\n",
    "d[10] = \"Ten\"\n",
    "print(\"Dictionary\", d)\n",
    "\n"
   ]
  },
  {
   "cell_type": "code",
   "execution_count": 19,
   "id": "d9df8628",
   "metadata": {},
   "outputs": [
    {
     "name": "stdout",
     "output_type": "stream",
     "text": [
      "Dictionary {5: 'Five'}\n"
     ]
    }
   ],
   "source": [
    "# Removing key-value pair\n",
    "del d[10]\n",
    "print(\"Dictionary\", d)"
   ]
  },
  {
   "cell_type": "code",
   "execution_count": 20,
   "id": "ee76da30",
   "metadata": {},
   "outputs": [
    {
     "name": "stdout",
     "output_type": "stream",
     "text": [
      "Kazuo\n"
     ]
    }
   ],
   "source": [
    "mydictionary = {\n",
    "    \"dog_2 name\": \"Mufasa\", \n",
    "    \"cat name\": \"Kazuo\", \n",
    "    \"dog_1 name\": \"Luna\",\n",
    "    \"snake name\": \"Slytherin\"\n",
    "}\n",
    "print(mydictionary[\"cat name\"])"
   ]
  },
  {
   "cell_type": "code",
   "execution_count": 21,
   "id": "f4a2e778",
   "metadata": {},
   "outputs": [
    {
     "name": "stdout",
     "output_type": "stream",
     "text": [
      "{'dog name': 'Luna', 'cat name': 'Kazuo', 'snake name': 'Slytherin'}\n"
     ]
    }
   ],
   "source": [
    "#Duplicates not allowed. Duplicate values will overwrite existing values\n",
    "mydictionary = {\n",
    "    \"dog name\": \"Mufasa\", \n",
    "    \"cat name\": \"Kazuo\", \n",
    "    \"dog name\": \"Luna\",\n",
    "    \"snake name\": \"Slytherin\"\n",
    "}\n",
    "print(mydictionary)"
   ]
  },
  {
   "cell_type": "code",
   "execution_count": 22,
   "id": "883a139c",
   "metadata": {},
   "outputs": [
    {
     "name": "stdout",
     "output_type": "stream",
     "text": [
      "The list of keywords is : \n",
      "['False', 'None', 'True', 'and', 'as', 'assert', 'async', 'await', 'break', 'class', 'continue', 'def', 'del', 'elif', 'else', 'except', 'finally', 'for', 'from', 'global', 'if', 'import', 'in', 'is', 'lambda', 'nonlocal', 'not', 'or', 'pass', 'raise', 'return', 'try', 'while', 'with', 'yield']\n"
     ]
    }
   ],
   "source": [
    "\n",
    "# Python code to demonstrate working of iskeyword()\n",
    " \n",
    "# importing \"keyword\" for keyword operations\n",
    "import keyword\n",
    " \n",
    "# printing all keywords at once using \"kwlist()\"\n",
    "print(\"The list of keywords is : \")\n",
    "print(keyword.kwlist)\n"
   ]
  },
  {
   "cell_type": "code",
   "execution_count": null,
   "id": "60f11f03",
   "metadata": {},
   "outputs": [],
   "source": []
  }
 ],
 "metadata": {
  "kernelspec": {
   "display_name": "Python 3 (ipykernel)",
   "language": "python",
   "name": "python3"
  },
  "language_info": {
   "codemirror_mode": {
    "name": "ipython",
    "version": 3
   },
   "file_extension": ".py",
   "mimetype": "text/x-python",
   "name": "python",
   "nbconvert_exporter": "python",
   "pygments_lexer": "ipython3",
   "version": "3.10.12"
  }
 },
 "nbformat": 4,
 "nbformat_minor": 5
}
