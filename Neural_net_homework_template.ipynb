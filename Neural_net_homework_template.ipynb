{
  "nbformat": 4,
  "nbformat_minor": 0,
  "metadata": {
    "colab": {
      "provenance": []
    },
    "kernelspec": {
      "name": "python3",
      "display_name": "Python 3"
    },
    "language_info": {
      "name": "python"
    }
  },
  "cells": [
    {
      "cell_type": "code",
      "execution_count": null,
      "metadata": {
        "id": "ttaX2x1UBftB"
      },
      "outputs": [],
      "source": [
        "!pip install AdvancedAnalytics\n"
      ]
    },
    {
      "cell_type": "code",
      "source": [
        "import pandas as pd\n",
        "import numpy  as np\n",
        "import time\n",
        "from copy import deepcopy"
      ],
      "metadata": {
        "id": "RDgw2WhdBlbQ"
      },
      "execution_count": null,
      "outputs": []
    },
    {
      "cell_type": "code",
      "source": [
        "\"\"\"*** CLASSES FOR DATA PREPROCESSING AND VALIDATION ***\"\"\"\n",
        "from AdvancedAnalytics.ReplaceImputeEncode import DT, ReplaceImputeEncode\n",
        "from sklearn.feature_selection import SelectKBest, SelectFromModel\n",
        "from sklearn.feature_selection import f_classif, chi2\n",
        "from sklearn.model_selection   import cross_validate, train_test_split\n",
        "from sklearn.exceptions        import ConvergenceWarning, UndefinedMetricWarning\n",
        "import warnings\n",
        "\n",
        "\"\"\"*** DECISION TREE CLASSES ***\"\"\"\n",
        "from AdvancedAnalytics.Tree import tree_classifier\n",
        "from sklearn.tree           import DecisionTreeClassifier\n",
        "\n",
        "\"\"\"*** FNN NEURAL NETWORK CLASSES ***\"\"\"\n",
        "from AdvancedAnalytics.NeuralNetwork import nn_classifier\n",
        "from sklearn.neural_network          import MLPClassifier"
      ],
      "metadata": {
        "id": "udhf29srBoBc"
      },
      "execution_count": null,
      "outputs": []
    },
    {
      "cell_type": "code",
      "source": [
        "attribute_map={\n",
        "        \"meanfreq\": [DT.Interval, (0,1.0)],\n",
        "        \"sd\":       [DT.Interval, (0,1.0)],\n",
        "        \"median\":   [DT.Interval, (0,1.0)],\n",
        "        \"Q25\":      [DT.Interval, (0,1.0)],\n",
        "        \"Q75\":      [DT.Interval, (0,1.0)],\n",
        "        \"IQR\":      [DT.Interval, (0,1.0)],\n",
        "        \"skew\":     [DT.Interval, (0,35.0)],\n",
        "        \"kurt\":     [DT.Interval, (0,1310.0)],\n",
        "        \"spent\":    [DT.Interval, (0,1.0)],\n",
        "        \"sfm\":      [DT.Interval, (0,1.0)],\n",
        "        \"mode\":     [DT.Interval, (0,1.0)],\n",
        "        \"centroid\": [DT.Interval, (0,1.0)],\n",
        "        \"meanfun\":  [DT.Interval, (0,1.0)],\n",
        "        \"minfun\":   [DT.Interval, (0,1.0)],\n",
        "        \"maxfun\":   [DT.Interval, (0,1.0)],\n",
        "        \"meandom\":  [DT.Interval, (0,3.0)],\n",
        "        \"mindom\":   [DT.Interval, (0,1.0)],\n",
        "        \"maxdom\":   [DT.Interval, (0,22.0)],\n",
        "        \"dfrange\":  [DT.Interval, (0,22.0)],\n",
        "        \"modindx\":  [DT.Interval, (0,1.0)],\n",
        "        \"label\":    [DT.Binary, (\"male\", \"female\")]}"
      ],
      "metadata": {
        "id": "vIkykBXpBuMz"
      },
      "execution_count": null,
      "outputs": []
    },
    {
      "cell_type": "code",
      "source": [
        "start_time = time.time()\n",
        "print(\"*** Anly 656 Voice Recognition ***\")\n",
        "print(time.ctime()) # print current date/time\n",
        "# CODE BLOCKS\n",
        "Tree_CV   = True\n",
        "Tree_Eval = True\n",
        "FNN_CV    = True\n",
        "FNN_Eval  = True\n",
        "\n",
        "\"\"\" ************************************************************************ \"\"\"\n",
        "\"\"\" ***                    DATA PREPROCESSING                            *** \"\"\"\n",
        "df = pd.read_csv(\"gender_voice_data.csv\")\n",
        "df = df.sample(frac=1, random_state=12345) #randomize data order"
      ],
      "metadata": {
        "id": "Os3hqBL7Bxv6"
      },
      "execution_count": null,
      "outputs": []
    },
    {
      "cell_type": "code",
      "source": [
        "\"\"\" ************************************************************************ \"\"\"\n",
        "\"\"\" ***             FIT DECISION TREE USING CROSS VALIDATION             *** \"\"\"\n",
        "if Tree_CV:\n",
        "    print(\"\\n*****************************************************************\")\n",
        "    print(\"*** DECISION TREE OPTIMIZATION USING N-FOLD CROSS-VALIDATION ****\")\n",
        "    print(\"*****************************************************************\")\n",
        "    print(time.ctime())\n",
        "    start_time = time.time()\n",
        "\n",
        "\n",
        "if Tree_Eval:\n",
        "    print(\"\\nBEST DECISION TREE SELECTED USING\", n_folds, \"FOLD CV\")\n",
        "\n",
        "\n",
        "\n",
        "\n",
        "\n",
        "\n",
        "    boundary   = ?\n",
        "    selector   = SelectFromModel(best_tree, threshold=boundary)\n",
        "    selector.set_output(transform=\"pandas\")\n",
        "    X_selected = selector.transform(X)\n",
        "    n_selected = X_selected.shape[1]\n",
        "    selected   = X_selected.columns\n",
        "    Xts        = Xt[selected]\n",
        "    Xvs        = Xv[selected]\n",
        "    #DISPLAY FEATURES SELECTED BY IMPORTANCE\n",
        "    print(\"\\nDECISION TREE FEATURES\")\n",
        "    print(\"(importance > \", boundary,\")\")\n",
        "    n_selected = X_selected.shape[1]\n",
        "    selected   = X_selected.columns\n",
        "    print(\"\\n****************\")\n",
        "    print(\"* TOP FEATURES *\")\n",
        "    print(\"****************\")\n",
        "    for i in range(n_selected):\n",
        "        print(\"  {:.<4.0f} {:<s}\".format(i+1, selected[n_selected-i-1]))\n",
        "    print(\"***************\\n\")\n",
        "\n",
        "    stop_time = time.time()\n",
        "    tot_time  = (stop_time-start_time)/60\n",
        "    print(\"Decision Tree Runtime(min):\", tot_time)\n",
        "\n",
        "    \"\"\" ************************************************************************ \"\"\"\n",
        "\"\"\" ***          FIT FNN NEURAL NETWORK USING CROSS VALIDATION           *** \"\"\"\n",
        "if FNN_CV==True:\n",
        "    print(\"\\n*****************************************************************\")\n",
        "    print(\"* FNN NEURAL NETWORK OPTIMIZATION USING N-FOLD CROSS-VALIDATION *\")\n",
        "    print(\"*****************************************************************\")\n",
        "    print(time.ctime())\n",
        "    warnings.filterwarnings('ignore', category=ConvergenceWarning)\n",
        "    warnings.filterwarnings('ignore', category=UndefinedMetricWarning)\n",
        "\n",
        "\n",
        "if FNN_Eval==True:\n",
        "   print(\"\\nBEST FNN SELECTED USING CV WITH\", n_folds, \"FOLDS\")\n",
        "\n",
        "   stop_time = time.time()\n",
        "   tot_time  = (stop_time-start_time)/60\n",
        "   print(\"---> FNN Neural Network Runtime(min):\", tot_time)"
      ],
      "metadata": {
        "id": "BtVzg401B2zX"
      },
      "execution_count": null,
      "outputs": []
    }
  ]
}